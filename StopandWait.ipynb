{
 "cells": [
  {
   "cell_type": "code",
   "execution_count": null,
   "metadata": {},
   "outputs": [],
   "source": [
    "noFrameAck = 0\n",
    "m=3\n",
    "S_window = 2**(m-1)\n",
    "currentWindow = [None for i in range(S_window)]\n",
    "Sf = 0 # Sequence number of first frame in window\n",
    "Sn = 0 # Sequence number of Nth frame window\n",
    "Sn_Ws =0\n",
    "data = ['A','B','C','D','E','F','G','H','I']"
   ]
  },
  {
   "cell_type": "code",
   "execution_count": null,
   "metadata": {},
   "outputs": [],
   "source": [
    "def checkAck(currentFrame):\n",
    "    global noFrameAck,Sf,Sn,Sn_Ws,data\n",
    "    currentFrameSeqNo = 0\n",
    "    \n",
    "    while(True):\n",
    "        print('Buffer',data[noFrameAck:S_window+noFrameAck])\n",
    "        print('Avaiable Frames in Current Window For ACK',currentFrame)\n",
    "        if(currentFrameSeqNo == len(currentFrame)):\n",
    "            print('All Frames ACK in current Window')\n",
    "            Sf = noFrameAck\n",
    "            Sn += 1\n",
    "            Sn_Ws +=1 \n",
    "            return True\n",
    "        print('Waiting to ACK for Frame',currentFrame[currentFrameSeqNo])\n",
    "        frameType = input('Enter ACK or NACK \\n')\n",
    "        if(frameType == 'C'):\n",
    "            break\n",
    "        if(frameType == 'ACK'):\n",
    "            \n",
    "            print(f'Frame {currentFrame[currentFrameSeqNo]} has ACK')\n",
    "            currentFrameSeqNo +=1\n",
    "            noFrameAck += 1\n",
    "        else:\n",
    "            print(f'Frame {currentFrame[currentFrameSeqNo]} has NACK')\n",
    "            currentFrameSeqNo +=1\n",
    "            return 'NACK'\n"
   ]
  },
  {
   "cell_type": "code",
   "execution_count": null,
   "metadata": {},
   "outputs": [],
   "source": [
    "frame_S=None; # frame to be sent\n",
    "frame_T=None; #\n",
    "while(True):\n",
    "        \n",
    "        if (Sn) >= len(data):\n",
    "            break\n",
    "        else:\n",
    "            if Sn == 0:\n",
    "                print('Data Sent',data[Sf:Sn_Ws+S_window])\n",
    "                Sn = S_window-1\n",
    "            if checkAck(data[Sf:Sn_Ws+S_window]): # Check for individual ACK for Each Frame\n",
    "                pass\n",
    "            else:\n",
    "                break\n",
    "                \n",
    "#                 print('Next data to be sent',data[Sn])\n",
    "\n",
    "            \n",
    "        \n",
    "    "
   ]
  },
  {
   "cell_type": "code",
   "execution_count": 83,
   "metadata": {},
   "outputs": [],
   "source": []
  },
  {
   "cell_type": "code",
   "execution_count": 94,
   "metadata": {},
   "outputs": [],
   "source": [
    "from time import sleep\n",
    "from IPython.display import display, Markdown, Latex\n",
    "data = ['A','B','C','D','E','F','G','H','I']\n",
    "status = ['ACK','NACK','NACK','ACK','NACK','NACK','ACK','NACK','ACK']\n",
    "data = [{'val':val,'status':status} for val,status in zip(data,status)]\n",
    "window_size = 4\n",
    "\n",
    "class Recevier:\n",
    "    def __init__(self, isReady,data):\n",
    "        self.isReady = isReady\n",
    "        self.data = data\n",
    "        self.current_frames = []\n",
    "    def check_ready(self):\n",
    "        print(\"Checking for availablity\")\n",
    "        sleep(3)\n",
    "        return True\n",
    "    def check_frames(self,current_frame,batch):\n",
    "        if(batch % 4 == 0):\n",
    "            print('Received',[x['val'] for x in current_frame])\n",
    "            self.current_frames = current_frame\n",
    "            return True\n",
    "    def recv_status(self):\n",
    "        for i in range(len(self.current_frames)):\n",
    "            sleep(1.3)\n",
    "            print(f\"Frame {self.current_frames[i]['val']} is {self.current_frames[i]['status']}\")\n",
    "            if self.current_frames[i]['status'] == 'NACK':\n",
    "                print(f\"Resending frame {self.current_frames[i]['val']}\")\n",
    "                sleep(3)\n",
    "                self.current_frames[i]['status'] = 'ACK'\n",
    "                print(f\"Frame {self.current_frames[i]['val']} is {self.current_frames[i]['status']}\")\n",
    "        status_list = [x['status'] for x in self.current_frames]\n",
    "        result = status_list.count(status_list[0]) == len(status_list)\n",
    "        if result:\n",
    "            print('All Okay')\n",
    "            return True\n",
    "\n",
    "    \n",
    "class Sender:\n",
    "    def __init__(self,data,window_size):\n",
    "        self.data = data\n",
    "        self.seq_no = 0\n",
    "        self.window_size =window_size\n",
    "        self.sn = 0\n",
    "    def send_frames(self,batch):\n",
    "        while self.seq_no < len(data): #also check if all are send or not\n",
    "            if(self.seq_no % 4 == 0 ):\n",
    "                for i in [x['val'] for x in self.data[0+batch:self.window_size+batch]]:\n",
    "                    sleep(2)\n",
    "                    print(f\"Sending Frame {i}\")\n",
    "                return True,self.data[0+batch:self.window_size+batch]\n",
    "            self.seq_no += 1\n",
    "        return False,self.data[0+batch:self.window_size+batch]"
   ]
  },
  {
   "cell_type": "code",
   "execution_count": 95,
   "metadata": {},
   "outputs": [
    {
     "name": "stdout",
     "output_type": "stream",
     "text": [
      "Data in current window ['A', 'B', 'C', 'D']\n",
      "Checking for availablity\n",
      "Ready\n"
     ]
    },
    {
     "data": {
      "text/markdown": [
       "# Sender Side"
      ],
      "text/plain": [
       "<IPython.core.display.Markdown object>"
      ]
     },
     "metadata": {},
     "output_type": "display_data"
    },
    {
     "name": "stdout",
     "output_type": "stream",
     "text": [
      "Sending Frame A\n",
      "Sending Frame B\n",
      "Sending Frame C\n",
      "Sending Frame D\n"
     ]
    },
    {
     "data": {
      "text/markdown": [
       "# Receiver Side"
      ],
      "text/plain": [
       "<IPython.core.display.Markdown object>"
      ]
     },
     "metadata": {},
     "output_type": "display_data"
    },
    {
     "name": "stdout",
     "output_type": "stream",
     "text": [
      "Received ['A', 'B', 'C', 'D']\n",
      "Frame A is ACK\n",
      "Frame B is NACK\n",
      "Resending frame B\n",
      "Frame B is ACK\n",
      "Frame C is NACK\n",
      "Resending frame C\n",
      "Frame C is ACK\n",
      "Frame D is ACK\n",
      "All Okay\n",
      "Done\n",
      "Checking for availablity\n",
      "Ready\n"
     ]
    },
    {
     "data": {
      "text/markdown": [
       "# Sender Side"
      ],
      "text/plain": [
       "<IPython.core.display.Markdown object>"
      ]
     },
     "metadata": {},
     "output_type": "display_data"
    },
    {
     "name": "stdout",
     "output_type": "stream",
     "text": [
      "Sending Frame E\n",
      "Sending Frame F\n",
      "Sending Frame G\n",
      "Sending Frame H\n"
     ]
    },
    {
     "data": {
      "text/markdown": [
       "# Receiver Side"
      ],
      "text/plain": [
       "<IPython.core.display.Markdown object>"
      ]
     },
     "metadata": {},
     "output_type": "display_data"
    },
    {
     "name": "stdout",
     "output_type": "stream",
     "text": [
      "Received ['E', 'F', 'G', 'H']\n",
      "Frame E is NACK\n",
      "Resending frame E\n",
      "Frame E is ACK\n",
      "Frame F is NACK\n",
      "Resending frame F\n",
      "Frame F is ACK\n",
      "Frame G is ACK\n",
      "Frame H is NACK\n",
      "Resending frame H\n",
      "Frame H is ACK\n",
      "All Okay\n",
      "Done\n",
      "Checking for availablity\n",
      "Ready\n"
     ]
    },
    {
     "data": {
      "text/markdown": [
       "# Sender Side"
      ],
      "text/plain": [
       "<IPython.core.display.Markdown object>"
      ]
     },
     "metadata": {},
     "output_type": "display_data"
    },
    {
     "name": "stdout",
     "output_type": "stream",
     "text": [
      "Sending Frame I\n"
     ]
    },
    {
     "data": {
      "text/markdown": [
       "# Receiver Side"
      ],
      "text/plain": [
       "<IPython.core.display.Markdown object>"
      ]
     },
     "metadata": {},
     "output_type": "display_data"
    },
    {
     "name": "stdout",
     "output_type": "stream",
     "text": [
      "Received ['I']\n",
      "Frame I is ACK\n",
      "All Okay\n",
      "Done\n"
     ]
    }
   ],
   "source": [
    "recevier = Recevier(False,data)\n",
    "sender = Sender(data,4)\n",
    "\n",
    "def testing(data):\n",
    "    print('Data in current window',[x['val'] for x in data[0:4]]);\n",
    "    batch = 0\n",
    "    while batch < len(data):\n",
    "        if recevier.check_ready():\n",
    "            print('Ready')\n",
    "            display(Markdown('# Sender Side'))\n",
    "            status,frames = sender.send_frames(batch)\n",
    "            if(status):\n",
    "                display(Markdown('# Receiver Side'))\n",
    "                if(recevier.check_frames(frames,batch)):\n",
    "                    if(recevier.recv_status()):\n",
    "                        batch += 4\n",
    "        print(\"Done\")\n",
    "testing(data)"
   ]
  },
  {
   "cell_type": "code",
   "execution_count": null,
   "metadata": {},
   "outputs": [],
   "source": []
  }
 ],
 "metadata": {
  "kernelspec": {
   "display_name": "Python 3",
   "language": "python",
   "name": "python3"
  },
  "language_info": {
   "codemirror_mode": {
    "name": "ipython",
    "version": 3
   },
   "file_extension": ".py",
   "mimetype": "text/x-python",
   "name": "python",
   "nbconvert_exporter": "python",
   "pygments_lexer": "ipython3",
   "version": "3.8.2"
  }
 },
 "nbformat": 4,
 "nbformat_minor": 4
}
